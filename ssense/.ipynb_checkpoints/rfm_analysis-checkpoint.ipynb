{
 "cells": [
  {
   "cell_type": "code",
   "execution_count": 1,
   "metadata": {},
   "outputs": [],
   "source": [
    "#load libraries\n",
    "import pandas as pd\n",
    "import numpy as np\n",
    "import seaborn as sns"
   ]
  },
  {
   "cell_type": "code",
   "execution_count": 3,
   "metadata": {},
   "outputs": [],
   "source": [
    "#load data\n",
    "df = pd.read_excel('PS_BA-Pt.2-Dataset.xlsx',sheet_name=\"data\", index_col=None)"
   ]
  },
  {
   "cell_type": "code",
   "execution_count": 4,
   "metadata": {},
   "outputs": [
    {
     "data": {
      "text/html": [
       "<div>\n",
       "<style scoped>\n",
       "    .dataframe tbody tr th:only-of-type {\n",
       "        vertical-align: middle;\n",
       "    }\n",
       "\n",
       "    .dataframe tbody tr th {\n",
       "        vertical-align: top;\n",
       "    }\n",
       "\n",
       "    .dataframe thead th {\n",
       "        text-align: right;\n",
       "    }\n",
       "</style>\n",
       "<table border=\"1\" class=\"dataframe\">\n",
       "  <thead>\n",
       "    <tr style=\"text-align: right;\">\n",
       "      <th></th>\n",
       "      <th>cartId</th>\n",
       "      <th>memberId</th>\n",
       "      <th>dateReceived</th>\n",
       "      <th>dateShipped</th>\n",
       "      <th>shippingService</th>\n",
       "      <th>value</th>\n",
       "      <th>cost</th>\n",
       "      <th>currency</th>\n",
       "      <th>itemCount</th>\n",
       "      <th>newsLetter</th>\n",
       "      <th>Year</th>\n",
       "      <th>Month</th>\n",
       "      <th>language</th>\n",
       "    </tr>\n",
       "  </thead>\n",
       "  <tbody>\n",
       "    <tr>\n",
       "      <td>0</td>\n",
       "      <td>50000001</td>\n",
       "      <td>21167367</td>\n",
       "      <td>2018-10-08</td>\n",
       "      <td>2018-10-12</td>\n",
       "      <td>Expedited</td>\n",
       "      <td>307</td>\n",
       "      <td>107</td>\n",
       "      <td>GBP</td>\n",
       "      <td>1</td>\n",
       "      <td>1</td>\n",
       "      <td>2018</td>\n",
       "      <td>10</td>\n",
       "      <td>EN</td>\n",
       "    </tr>\n",
       "    <tr>\n",
       "      <td>1</td>\n",
       "      <td>50000031</td>\n",
       "      <td>21167119</td>\n",
       "      <td>2017-12-16</td>\n",
       "      <td>2017-12-20</td>\n",
       "      <td>Expedited</td>\n",
       "      <td>1049</td>\n",
       "      <td>237</td>\n",
       "      <td>CAD</td>\n",
       "      <td>4</td>\n",
       "      <td>0</td>\n",
       "      <td>2017</td>\n",
       "      <td>12</td>\n",
       "      <td>OT</td>\n",
       "    </tr>\n",
       "    <tr>\n",
       "      <td>2</td>\n",
       "      <td>50000061</td>\n",
       "      <td>16460067</td>\n",
       "      <td>2018-09-13</td>\n",
       "      <td>2018-09-14</td>\n",
       "      <td>Expedited</td>\n",
       "      <td>276</td>\n",
       "      <td>145</td>\n",
       "      <td>CAD</td>\n",
       "      <td>12</td>\n",
       "      <td>1</td>\n",
       "      <td>2018</td>\n",
       "      <td>9</td>\n",
       "      <td>CN</td>\n",
       "    </tr>\n",
       "    <tr>\n",
       "      <td>3</td>\n",
       "      <td>50000071</td>\n",
       "      <td>20686798</td>\n",
       "      <td>2018-11-04</td>\n",
       "      <td>2018-11-05</td>\n",
       "      <td>Ground</td>\n",
       "      <td>152</td>\n",
       "      <td>68</td>\n",
       "      <td>CAD</td>\n",
       "      <td>5</td>\n",
       "      <td>1</td>\n",
       "      <td>2018</td>\n",
       "      <td>11</td>\n",
       "      <td>CN</td>\n",
       "    </tr>\n",
       "    <tr>\n",
       "      <td>4</td>\n",
       "      <td>50000081</td>\n",
       "      <td>21171967</td>\n",
       "      <td>2018-05-27</td>\n",
       "      <td>2018-05-31</td>\n",
       "      <td>Express</td>\n",
       "      <td>450</td>\n",
       "      <td>219</td>\n",
       "      <td>EUR</td>\n",
       "      <td>19</td>\n",
       "      <td>1</td>\n",
       "      <td>2018</td>\n",
       "      <td>5</td>\n",
       "      <td>EN</td>\n",
       "    </tr>\n",
       "  </tbody>\n",
       "</table>\n",
       "</div>"
      ],
      "text/plain": [
       "     cartId  memberId dateReceived dateShipped shippingService  value  cost  \\\n",
       "0  50000001  21167367   2018-10-08  2018-10-12       Expedited    307   107   \n",
       "1  50000031  21167119   2017-12-16  2017-12-20       Expedited   1049   237   \n",
       "2  50000061  16460067   2018-09-13  2018-09-14       Expedited    276   145   \n",
       "3  50000071  20686798   2018-11-04  2018-11-05          Ground    152    68   \n",
       "4  50000081  21171967   2018-05-27  2018-05-31         Express    450   219   \n",
       "\n",
       "  currency  itemCount  newsLetter  Year  Month language  \n",
       "0      GBP          1           1  2018     10       EN  \n",
       "1      CAD          4           0  2017     12       OT  \n",
       "2      CAD         12           1  2018      9       CN  \n",
       "3      CAD          5           1  2018     11       CN  \n",
       "4      EUR         19           1  2018      5       EN  "
      ]
     },
     "execution_count": 4,
     "metadata": {},
     "output_type": "execute_result"
    }
   ],
   "source": [
    "df.head()"
   ]
  },
  {
   "cell_type": "code",
   "execution_count": 5,
   "metadata": {},
   "outputs": [
    {
     "data": {
      "text/plain": [
       "cartId                      int64\n",
       "memberId                    int64\n",
       "dateReceived       datetime64[ns]\n",
       "dateShipped        datetime64[ns]\n",
       "shippingService            object\n",
       "value                       int64\n",
       "cost                        int64\n",
       "currency                   object\n",
       "itemCount                   int64\n",
       "newsLetter                  int64\n",
       "Year                        int64\n",
       "Month                       int64\n",
       "language                   object\n",
       "dtype: object"
      ]
     },
     "execution_count": 5,
     "metadata": {},
     "output_type": "execute_result"
    }
   ],
   "source": [
    "df.dtypes"
   ]
  },
  {
   "cell_type": "markdown",
   "metadata": {},
   "source": [
    "# build donor rfm model"
   ]
  },
  {
   "cell_type": "code",
   "execution_count": 7,
   "metadata": {},
   "outputs": [
    {
     "data": {
      "text/plain": [
       "Timestamp('2018-12-01 00:00:00')"
      ]
     },
     "execution_count": 7,
     "metadata": {},
     "output_type": "execute_result"
    }
   ],
   "source": [
    "#find min and max date\n",
    "df['dateShipped'].min()\n",
    "df['dateShipped'].max()"
   ]
  },
  {
   "cell_type": "code",
   "execution_count": null,
   "metadata": {},
   "outputs": [],
   "source": []
  },
  {
   "cell_type": "code",
   "execution_count": 8,
   "metadata": {},
   "outputs": [],
   "source": [
    "import datetime as dt\n",
    "NOW = dt.datetime(2020,6,1)\n",
    "df['dateShipped'] = pd.to_datetime(df['dateShipped'])"
   ]
  },
  {
   "cell_type": "code",
   "execution_count": 9,
   "metadata": {},
   "outputs": [
    {
     "data": {
      "text/html": [
       "<div>\n",
       "<style scoped>\n",
       "    .dataframe tbody tr th:only-of-type {\n",
       "        vertical-align: middle;\n",
       "    }\n",
       "\n",
       "    .dataframe tbody tr th {\n",
       "        vertical-align: top;\n",
       "    }\n",
       "\n",
       "    .dataframe thead th {\n",
       "        text-align: right;\n",
       "    }\n",
       "</style>\n",
       "<table border=\"1\" class=\"dataframe\">\n",
       "  <thead>\n",
       "    <tr style=\"text-align: right;\">\n",
       "      <th></th>\n",
       "      <th>recency</th>\n",
       "      <th>frequency</th>\n",
       "      <th>monetary_value</th>\n",
       "    </tr>\n",
       "    <tr>\n",
       "      <th>memberId</th>\n",
       "      <th></th>\n",
       "      <th></th>\n",
       "      <th></th>\n",
       "    </tr>\n",
       "  </thead>\n",
       "  <tbody>\n",
       "    <tr>\n",
       "      <td>37189</td>\n",
       "      <td>648</td>\n",
       "      <td>5</td>\n",
       "      <td>39289</td>\n",
       "    </tr>\n",
       "    <tr>\n",
       "      <td>38072</td>\n",
       "      <td>615</td>\n",
       "      <td>6</td>\n",
       "      <td>2939</td>\n",
       "    </tr>\n",
       "    <tr>\n",
       "      <td>44644</td>\n",
       "      <td>597</td>\n",
       "      <td>8</td>\n",
       "      <td>6255</td>\n",
       "    </tr>\n",
       "    <tr>\n",
       "      <td>48359</td>\n",
       "      <td>566</td>\n",
       "      <td>7</td>\n",
       "      <td>10443</td>\n",
       "    </tr>\n",
       "    <tr>\n",
       "      <td>53315</td>\n",
       "      <td>593</td>\n",
       "      <td>5</td>\n",
       "      <td>6252</td>\n",
       "    </tr>\n",
       "  </tbody>\n",
       "</table>\n",
       "</div>"
      ],
      "text/plain": [
       "          recency  frequency  monetary_value\n",
       "memberId                                    \n",
       "37189         648          5           39289\n",
       "38072         615          6            2939\n",
       "44644         597          8            6255\n",
       "48359         566          7           10443\n",
       "53315         593          5            6252"
      ]
     },
     "execution_count": 9,
     "metadata": {},
     "output_type": "execute_result"
    }
   ],
   "source": [
    "#rfm model\n",
    "rfmTable = df.groupby('memberId').agg({'dateShipped': lambda x: (NOW - x.max()).days,\n",
    "                                        'memberId': lambda x: len(x),  \n",
    "                                        'value': lambda x: x.sum()})\n",
    "\n",
    "rfmTable['dateShipped'] = rfmTable['dateShipped'].astype(int)\n",
    "rfmTable.rename(columns={'dateShipped': 'recency', \n",
    "                         'memberId': 'frequency', \n",
    "                         'value': 'monetary_value'}, inplace=True)\n",
    "rfmTable.head()"
   ]
  },
  {
   "cell_type": "code",
   "execution_count": 10,
   "metadata": {},
   "outputs": [],
   "source": [
    "#split quantiles\n",
    "quantiles = rfmTable.quantile(q=[0.1,0.2,0.3,0.4,0.5,0.6,0.7,0.8,0.9])\n",
    "quantiles = quantiles.to_dict()"
   ]
  },
  {
   "cell_type": "code",
   "execution_count": 11,
   "metadata": {},
   "outputs": [],
   "source": [
    "segmented_rfm = rfmTable"
   ]
  },
  {
   "cell_type": "code",
   "execution_count": 20,
   "metadata": {},
   "outputs": [],
   "source": [
    "def RScore(x,p,d):\n",
    "    if x <= d[p][0.10]:\n",
    "        return 1\n",
    "    elif x <= d[p][0.20]:\n",
    "        return 2\n",
    "    elif x <= d[p][0.30]: \n",
    "        return 3\n",
    "    elif x <= d[p][0.40]: \n",
    "        return 4\n",
    "    elif x <= d[p][0.50]:\n",
    "        return 5\n",
    "    elif x <= d[p][0.60]: \n",
    "        return 6\n",
    "    elif x <= d[p][0.70]: \n",
    "        return 7\n",
    "    elif x <= d[p][0.80]:\n",
    "        return 8\n",
    "    elif x <= d[p][0.90]: \n",
    "        return 9\n",
    "    else:\n",
    "        return 10\n",
    "    \n",
    "def FMScore(x,p,d):\n",
    "    if x <= d[p][0.10]:\n",
    "        return 10\n",
    "    elif x <= d[p][0.20]:\n",
    "        return 9\n",
    "    elif x <= d[p][0.30]: \n",
    "        return 8\n",
    "    elif x <= d[p][0.40]: \n",
    "        return 7\n",
    "    elif x <= d[p][0.50]:\n",
    "        return 6\n",
    "    elif x <= d[p][0.60]: \n",
    "        return 5\n",
    "    elif x <= d[p][0.70]: \n",
    "        return 4\n",
    "    elif x <= d[p][0.80]:\n",
    "        return 3\n",
    "    elif x <= d[p][0.90]: \n",
    "        return 2\n",
    "    else:\n",
    "        return 1"
   ]
  },
  {
   "cell_type": "code",
   "execution_count": 21,
   "metadata": {},
   "outputs": [
    {
     "data": {
      "text/html": [
       "<div>\n",
       "<style scoped>\n",
       "    .dataframe tbody tr th:only-of-type {\n",
       "        vertical-align: middle;\n",
       "    }\n",
       "\n",
       "    .dataframe tbody tr th {\n",
       "        vertical-align: top;\n",
       "    }\n",
       "\n",
       "    .dataframe thead th {\n",
       "        text-align: right;\n",
       "    }\n",
       "</style>\n",
       "<table border=\"1\" class=\"dataframe\">\n",
       "  <thead>\n",
       "    <tr style=\"text-align: right;\">\n",
       "      <th></th>\n",
       "      <th>recency</th>\n",
       "      <th>frequency</th>\n",
       "      <th>monetary_value</th>\n",
       "      <th>r_quartile</th>\n",
       "      <th>f_quartile</th>\n",
       "      <th>m_quartile</th>\n",
       "      <th>RFMScore</th>\n",
       "    </tr>\n",
       "    <tr>\n",
       "      <th>memberId</th>\n",
       "      <th></th>\n",
       "      <th></th>\n",
       "      <th></th>\n",
       "      <th></th>\n",
       "      <th></th>\n",
       "      <th></th>\n",
       "      <th></th>\n",
       "    </tr>\n",
       "  </thead>\n",
       "  <tbody>\n",
       "    <tr>\n",
       "      <td>37189</td>\n",
       "      <td>648</td>\n",
       "      <td>5</td>\n",
       "      <td>39289</td>\n",
       "      <td>8</td>\n",
       "      <td>6</td>\n",
       "      <td>2</td>\n",
       "      <td>85.09.0</td>\n",
       "    </tr>\n",
       "    <tr>\n",
       "      <td>38072</td>\n",
       "      <td>615</td>\n",
       "      <td>6</td>\n",
       "      <td>2939</td>\n",
       "      <td>6</td>\n",
       "      <td>5</td>\n",
       "      <td>6</td>\n",
       "      <td>66.05.0</td>\n",
       "    </tr>\n",
       "    <tr>\n",
       "      <td>44644</td>\n",
       "      <td>597</td>\n",
       "      <td>8</td>\n",
       "      <td>6255</td>\n",
       "      <td>5</td>\n",
       "      <td>2</td>\n",
       "      <td>3</td>\n",
       "      <td>59.08.0</td>\n",
       "    </tr>\n",
       "    <tr>\n",
       "      <td>48359</td>\n",
       "      <td>566</td>\n",
       "      <td>7</td>\n",
       "      <td>10443</td>\n",
       "      <td>2</td>\n",
       "      <td>3</td>\n",
       "      <td>3</td>\n",
       "      <td>28.08.0</td>\n",
       "    </tr>\n",
       "    <tr>\n",
       "      <td>53315</td>\n",
       "      <td>593</td>\n",
       "      <td>5</td>\n",
       "      <td>6252</td>\n",
       "      <td>5</td>\n",
       "      <td>6</td>\n",
       "      <td>4</td>\n",
       "      <td>55.07.0</td>\n",
       "    </tr>\n",
       "  </tbody>\n",
       "</table>\n",
       "</div>"
      ],
      "text/plain": [
       "          recency  frequency  monetary_value  r_quartile  f_quartile  \\\n",
       "memberId                                                               \n",
       "37189         648          5           39289           8           6   \n",
       "38072         615          6            2939           6           5   \n",
       "44644         597          8            6255           5           2   \n",
       "48359         566          7           10443           2           3   \n",
       "53315         593          5            6252           5           6   \n",
       "\n",
       "          m_quartile RFMScore  \n",
       "memberId                       \n",
       "37189              2  85.09.0  \n",
       "38072              6  66.05.0  \n",
       "44644              3  59.08.0  \n",
       "48359              3  28.08.0  \n",
       "53315              4  55.07.0  "
      ]
     },
     "execution_count": 21,
     "metadata": {},
     "output_type": "execute_result"
    }
   ],
   "source": [
    "#segment the data\n",
    "segmented_rfm['r_quartile'] = segmented_rfm['recency'].apply(RScore, args=('recency',quantiles,))\n",
    "segmented_rfm['f_quartile'] = segmented_rfm['frequency'].apply(FMScore, args=('frequency',quantiles,))\n",
    "segmented_rfm['m_quartile'] = segmented_rfm['monetary_value'].apply(FMScore, args=('monetary_value',quantiles,))\n",
    "segmented_rfm.head()"
   ]
  },
  {
   "cell_type": "code",
   "execution_count": 22,
   "metadata": {},
   "outputs": [
    {
     "data": {
      "text/html": [
       "<div>\n",
       "<style scoped>\n",
       "    .dataframe tbody tr th:only-of-type {\n",
       "        vertical-align: middle;\n",
       "    }\n",
       "\n",
       "    .dataframe tbody tr th {\n",
       "        vertical-align: top;\n",
       "    }\n",
       "\n",
       "    .dataframe thead th {\n",
       "        text-align: right;\n",
       "    }\n",
       "</style>\n",
       "<table border=\"1\" class=\"dataframe\">\n",
       "  <thead>\n",
       "    <tr style=\"text-align: right;\">\n",
       "      <th></th>\n",
       "      <th>recency</th>\n",
       "      <th>frequency</th>\n",
       "      <th>monetary_value</th>\n",
       "      <th>r_quartile</th>\n",
       "      <th>f_quartile</th>\n",
       "      <th>m_quartile</th>\n",
       "      <th>RFMScore</th>\n",
       "    </tr>\n",
       "    <tr>\n",
       "      <th>memberId</th>\n",
       "      <th></th>\n",
       "      <th></th>\n",
       "      <th></th>\n",
       "      <th></th>\n",
       "      <th></th>\n",
       "      <th></th>\n",
       "      <th></th>\n",
       "    </tr>\n",
       "  </thead>\n",
       "  <tbody>\n",
       "    <tr>\n",
       "      <td>37189</td>\n",
       "      <td>648</td>\n",
       "      <td>5</td>\n",
       "      <td>39289</td>\n",
       "      <td>8</td>\n",
       "      <td>6</td>\n",
       "      <td>2</td>\n",
       "      <td>862</td>\n",
       "    </tr>\n",
       "    <tr>\n",
       "      <td>38072</td>\n",
       "      <td>615</td>\n",
       "      <td>6</td>\n",
       "      <td>2939</td>\n",
       "      <td>6</td>\n",
       "      <td>5</td>\n",
       "      <td>6</td>\n",
       "      <td>656</td>\n",
       "    </tr>\n",
       "    <tr>\n",
       "      <td>44644</td>\n",
       "      <td>597</td>\n",
       "      <td>8</td>\n",
       "      <td>6255</td>\n",
       "      <td>5</td>\n",
       "      <td>2</td>\n",
       "      <td>3</td>\n",
       "      <td>523</td>\n",
       "    </tr>\n",
       "    <tr>\n",
       "      <td>48359</td>\n",
       "      <td>566</td>\n",
       "      <td>7</td>\n",
       "      <td>10443</td>\n",
       "      <td>2</td>\n",
       "      <td>3</td>\n",
       "      <td>3</td>\n",
       "      <td>233</td>\n",
       "    </tr>\n",
       "    <tr>\n",
       "      <td>53315</td>\n",
       "      <td>593</td>\n",
       "      <td>5</td>\n",
       "      <td>6252</td>\n",
       "      <td>5</td>\n",
       "      <td>6</td>\n",
       "      <td>4</td>\n",
       "      <td>564</td>\n",
       "    </tr>\n",
       "  </tbody>\n",
       "</table>\n",
       "</div>"
      ],
      "text/plain": [
       "          recency  frequency  monetary_value  r_quartile  f_quartile  \\\n",
       "memberId                                                               \n",
       "37189         648          5           39289           8           6   \n",
       "38072         615          6            2939           6           5   \n",
       "44644         597          8            6255           5           2   \n",
       "48359         566          7           10443           2           3   \n",
       "53315         593          5            6252           5           6   \n",
       "\n",
       "          m_quartile RFMScore  \n",
       "memberId                       \n",
       "37189              2      862  \n",
       "38072              6      656  \n",
       "44644              3      523  \n",
       "48359              3      233  \n",
       "53315              4      564  "
      ]
     },
     "execution_count": 22,
     "metadata": {},
     "output_type": "execute_result"
    }
   ],
   "source": [
    "#add rfm\n",
    "segmented_rfm['RFMScore'] = segmented_rfm.r_quartile.map(str) + segmented_rfm.f_quartile.map(str) + segmented_rfm.m_quartile.map(str)\n",
    "segmented_rfm.head()"
   ]
  },
  {
   "cell_type": "code",
   "execution_count": 23,
   "metadata": {},
   "outputs": [],
   "source": [
    "#output\n",
    "from datetime import date\n",
    "from datetime import datetime\n",
    "from datetime import timedelta \n",
    "\n",
    "current_time = datetime.now()\n",
    "info = current_time.strftime('%m%d%Y')\n",
    "output_filename = (\"rfm_\" + str(info[:4]) + str(info[6:]) + \".csv\")\n",
    "segmented_rfm.to_csv(output_filename, sep=',', header=True)"
   ]
  },
  {
   "cell_type": "code",
   "execution_count": null,
   "metadata": {},
   "outputs": [],
   "source": []
  },
  {
   "cell_type": "markdown",
   "metadata": {},
   "source": []
  },
  {
   "cell_type": "code",
   "execution_count": null,
   "metadata": {},
   "outputs": [],
   "source": []
  },
  {
   "cell_type": "code",
   "execution_count": null,
   "metadata": {},
   "outputs": [],
   "source": []
  },
  {
   "cell_type": "code",
   "execution_count": null,
   "metadata": {},
   "outputs": [],
   "source": []
  },
  {
   "cell_type": "code",
   "execution_count": null,
   "metadata": {},
   "outputs": [],
   "source": []
  },
  {
   "cell_type": "code",
   "execution_count": null,
   "metadata": {},
   "outputs": [],
   "source": []
  },
  {
   "cell_type": "code",
   "execution_count": null,
   "metadata": {},
   "outputs": [],
   "source": []
  },
  {
   "cell_type": "code",
   "execution_count": null,
   "metadata": {},
   "outputs": [],
   "source": []
  },
  {
   "cell_type": "code",
   "execution_count": null,
   "metadata": {},
   "outputs": [],
   "source": []
  },
  {
   "cell_type": "code",
   "execution_count": null,
   "metadata": {},
   "outputs": [],
   "source": []
  },
  {
   "cell_type": "code",
   "execution_count": null,
   "metadata": {},
   "outputs": [],
   "source": []
  },
  {
   "cell_type": "code",
   "execution_count": null,
   "metadata": {},
   "outputs": [],
   "source": []
  },
  {
   "cell_type": "code",
   "execution_count": null,
   "metadata": {},
   "outputs": [],
   "source": []
  },
  {
   "cell_type": "code",
   "execution_count": null,
   "metadata": {},
   "outputs": [],
   "source": []
  },
  {
   "cell_type": "code",
   "execution_count": null,
   "metadata": {},
   "outputs": [],
   "source": []
  },
  {
   "cell_type": "markdown",
   "metadata": {},
   "source": []
  },
  {
   "cell_type": "code",
   "execution_count": null,
   "metadata": {},
   "outputs": [],
   "source": []
  },
  {
   "cell_type": "code",
   "execution_count": 1,
   "metadata": {},
   "outputs": [],
   "source": []
  },
  {
   "cell_type": "code",
   "execution_count": 32,
   "metadata": {},
   "outputs": [],
   "source": []
  },
  {
   "cell_type": "code",
   "execution_count": 33,
   "metadata": {},
   "outputs": [],
   "source": []
  },
  {
   "cell_type": "code",
   "execution_count": null,
   "metadata": {},
   "outputs": [],
   "source": []
  },
  {
   "cell_type": "code",
   "execution_count": null,
   "metadata": {},
   "outputs": [],
   "source": []
  },
  {
   "cell_type": "code",
   "execution_count": 110,
   "metadata": {},
   "outputs": [],
   "source": []
  },
  {
   "cell_type": "code",
   "execution_count": null,
   "metadata": {},
   "outputs": [],
   "source": []
  },
  {
   "cell_type": "code",
   "execution_count": null,
   "metadata": {},
   "outputs": [],
   "source": []
  },
  {
   "cell_type": "code",
   "execution_count": null,
   "metadata": {},
   "outputs": [],
   "source": []
  },
  {
   "cell_type": "code",
   "execution_count": null,
   "metadata": {},
   "outputs": [],
   "source": []
  },
  {
   "cell_type": "code",
   "execution_count": null,
   "metadata": {},
   "outputs": [],
   "source": []
  },
  {
   "cell_type": "code",
   "execution_count": null,
   "metadata": {},
   "outputs": [],
   "source": []
  },
  {
   "cell_type": "code",
   "execution_count": null,
   "metadata": {},
   "outputs": [],
   "source": []
  },
  {
   "cell_type": "code",
   "execution_count": null,
   "metadata": {},
   "outputs": [],
   "source": []
  },
  {
   "cell_type": "code",
   "execution_count": null,
   "metadata": {},
   "outputs": [],
   "source": []
  },
  {
   "cell_type": "code",
   "execution_count": null,
   "metadata": {},
   "outputs": [],
   "source": []
  },
  {
   "cell_type": "code",
   "execution_count": null,
   "metadata": {},
   "outputs": [],
   "source": []
  },
  {
   "cell_type": "code",
   "execution_count": 128,
   "metadata": {},
   "outputs": [],
   "source": []
  },
  {
   "cell_type": "code",
   "execution_count": null,
   "metadata": {},
   "outputs": [],
   "source": []
  },
  {
   "cell_type": "code",
   "execution_count": null,
   "metadata": {},
   "outputs": [],
   "source": []
  },
  {
   "cell_type": "code",
   "execution_count": null,
   "metadata": {},
   "outputs": [],
   "source": []
  },
  {
   "cell_type": "code",
   "execution_count": null,
   "metadata": {},
   "outputs": [],
   "source": []
  }
 ],
 "metadata": {
  "kernelspec": {
   "display_name": "Python 3",
   "language": "python",
   "name": "python3"
  },
  "language_info": {
   "codemirror_mode": {
    "name": "ipython",
    "version": 3
   },
   "file_extension": ".py",
   "mimetype": "text/x-python",
   "name": "python",
   "nbconvert_exporter": "python",
   "pygments_lexer": "ipython3",
   "version": "3.7.4"
  }
 },
 "nbformat": 4,
 "nbformat_minor": 2
}
