{
 "cells": [
  {
   "cell_type": "code",
   "execution_count": 1,
   "metadata": {},
   "outputs": [],
   "source": [
    "#load libraries\n",
    "import pandas as pd\n",
    "import json\n",
    "import requests\n",
    "from pandas.io.json import json_normalize"
   ]
  },
  {
   "cell_type": "code",
   "execution_count": 2,
   "metadata": {},
   "outputs": [],
   "source": [
    "#load orders json file\n",
    "with open('orders.json') as f:\n",
    "    orders_json = json.load(f)"
   ]
  },
  {
   "cell_type": "code",
   "execution_count": 3,
   "metadata": {},
   "outputs": [],
   "source": [
    "#flatten json data\n",
    "orders_df = json_normalize(orders_json)"
   ]
  },
  {
   "cell_type": "code",
   "execution_count": 4,
   "metadata": {
    "scrolled": true
   },
   "outputs": [],
   "source": [
    "#add date only column\n",
    "orders_df['Date'] = pd.to_datetime(orders_df['created_at']).dt.date"
   ]
  },
  {
   "cell_type": "code",
   "execution_count": 5,
   "metadata": {},
   "outputs": [],
   "source": [
    "#line items information\n",
    "order_information = []\n",
    "order_items_df = orders_df[['id','line_items']]\n",
    "\n",
    "for i, row in order_items_df.iterrows():\n",
    "    for order in row['line_items']:\n",
    "        order_information.append([row['id'],order['id'],order['product_id'],order['product_sku'],\n",
    "                                  order['product_name'],order['price']])\n",
    "        \n",
    "order_information_df = pd.DataFrame(order_information)\n",
    "order_information_df.columns = ['id','product_order_id','product_id','product_sku',\n",
    "                                'product_name','price']#add header   "
   ]
  },
  {
   "cell_type": "code",
   "execution_count": 6,
   "metadata": {},
   "outputs": [],
   "source": [
    "# combine order and line items\n",
    "orders_line_items_df = pd.merge(orders_df, order_information_df, how='inner',on = 'id')"
   ]
  },
  {
   "cell_type": "code",
   "execution_count": 7,
   "metadata": {},
   "outputs": [],
   "source": [
    "#generate min and max date\n",
    "max_date = orders_df['Date'].max()\n",
    "min_date = orders_df['Date'].min()"
   ]
  },
  {
   "cell_type": "code",
   "execution_count": 8,
   "metadata": {},
   "outputs": [],
   "source": [
    "#currency information\n",
    "CURRENCY_US = \"USD\"\n",
    "CURRENCY_CAD = \"CAD\""
   ]
  },
  {
   "cell_type": "code",
   "execution_count": 9,
   "metadata": {},
   "outputs": [],
   "source": [
    "#foreign exchange api url setup\n",
    "url = \"https://api.exchangeratesapi.io/history?start_at=\" + str(min_date) + \"&end_at=\" + str(max_date) + \"&base=\" + CURRENCY_US + \"&symbols=\" + CURRENCY_CAD\n",
    "\n",
    "exchange_information = []\n",
    "response = requests.get(url)\n",
    "if (response.status_code != 200):\n",
    "    print(\"URL is not working\")  \n",
    "else:\n",
    "    response = requests.get(url)\n",
    "    exchange_rates_data = response.json()\n",
    "    exchange_rates_cad = exchange_rates_data[\"rates\"]\n",
    "    for exchange_rate_cad in exchange_rates_cad: \n",
    "        exchange_information.append([exchange_rate_cad,exchange_rates_cad[exchange_rate_cad][\"CAD\"]])\n",
    "    exchange_df = pd.DataFrame(exchange_information)\n",
    "    exchange_df.columns = ['Date','CAD_RATE'] #add headers"
   ]
  },
  {
   "cell_type": "code",
   "execution_count": 10,
   "metadata": {},
   "outputs": [],
   "source": [
    "exchange_df.sort_values(by=['Date'], inplace=True)"
   ]
  },
  {
   "cell_type": "code",
   "execution_count": 11,
   "metadata": {},
   "outputs": [],
   "source": [
    "#Update exchange information since some days are missing - filled using previous and future exchange rates\n",
    "exchange_update = []\n",
    "daterange = pd.date_range(min_date, max_date)\n",
    "for single_date in daterange:\n",
    "    exchange_update.append(single_date.strftime(\"%Y-%m-%d\"))\n",
    "    exchange_update_df = pd.DataFrame(exchange_update)\n",
    "    exchange_update_df.columns = ['Date'] #add header\n",
    "\n",
    "exchange_update_df = pd.merge(exchange_update_df, exchange_df, how='left',on = 'Date')\n",
    "exchange_update_df = exchange_update_df.fillna(method='ffill')   \n",
    "exchange_update_df = exchange_update_df.fillna(method='bfill')\n",
    "\n",
    "exchange_update_df['CAD_RATE'] = exchange_update_df['CAD_RATE'].round(decimals=2)"
   ]
  },
  {
   "cell_type": "code",
   "execution_count": 12,
   "metadata": {},
   "outputs": [],
   "source": [
    "#combine exchange rate and line item orders\n",
    "orders_line_items_df['Date'] = orders_line_items_df['Date'].astype(str)\n",
    "orders_line_items_df.reset_index(drop=True, inplace=True)\n",
    "exchange_update_df.reset_index(drop=True, inplace=True)\n",
    "orders_line_items_final_df = pd.merge(orders_line_items_df, exchange_update_df, how='left',on = 'Date')"
   ]
  },
  {
   "cell_type": "code",
   "execution_count": null,
   "metadata": {},
   "outputs": [],
   "source": []
  },
  {
   "cell_type": "code",
   "execution_count": 13,
   "metadata": {},
   "outputs": [],
   "source": [
    "#generate canadian prices\n",
    "orders_line_items_final_df['cad_price'] = orders_line_items_final_df['price']*orders_line_items_final_df['CAD_RATE']\n",
    "orders_line_items_final_df['cad_price'] = orders_line_items_final_df['cad_price'].round(decimals=2)"
   ]
  },
  {
   "cell_type": "code",
   "execution_count": 14,
   "metadata": {},
   "outputs": [],
   "source": [
    "#select information needed and rename columns\n",
    "orders_line_items_CAD_final_df = orders_line_items_final_df[['id','customer.id','customer.name','customer.email','Date',\n",
    "                                     'product_order_id','product_id','product_sku','product_name','price','cad_price']]\n",
    "orders_line_items_CAD_final_df.columns = ['id','customer_id','customer_name','customer_email','date','product_order_id',\n",
    "                               'product_id','product_sku','product_name','price','cad_price']"
   ]
  },
  {
   "cell_type": "code",
   "execution_count": 15,
   "metadata": {},
   "outputs": [],
   "source": [
    "orders_line_items_CAD_final_df.to_csv(\"orders_items.csv\")"
   ]
  },
  {
   "cell_type": "code",
   "execution_count": null,
   "metadata": {},
   "outputs": [],
   "source": []
  }
 ],
 "metadata": {
  "kernelspec": {
   "display_name": "Python 3",
   "language": "python",
   "name": "python3"
  },
  "language_info": {
   "codemirror_mode": {
    "name": "ipython",
    "version": 3
   },
   "file_extension": ".py",
   "mimetype": "text/x-python",
   "name": "python",
   "nbconvert_exporter": "python",
   "pygments_lexer": "ipython3",
   "version": "3.7.4"
  }
 },
 "nbformat": 4,
 "nbformat_minor": 2
}
