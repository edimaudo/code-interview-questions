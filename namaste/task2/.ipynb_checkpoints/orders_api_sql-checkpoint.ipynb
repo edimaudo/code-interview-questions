{
 "cells": [
  {
   "cell_type": "code",
   "execution_count": 1,
   "metadata": {},
   "outputs": [],
   "source": [
    "#load libraries\n",
    "import pandas as pd\n",
    "import json\n",
    "import requests\n",
    "from pandas.io.json import json_normalize"
   ]
  },
  {
   "cell_type": "code",
   "execution_count": 2,
   "metadata": {},
   "outputs": [],
   "source": [
    "#load orders json file\n",
    "with open('orders.json') as f:\n",
    "    orders_json = json.load(f)"
   ]
  },
  {
   "cell_type": "code",
   "execution_count": 3,
   "metadata": {},
   "outputs": [],
   "source": [
    "#flatten json data\n",
    "orders_df = json_normalize(orders_json)"
   ]
  },
  {
   "cell_type": "code",
   "execution_count": 4,
   "metadata": {
    "scrolled": true
   },
   "outputs": [],
   "source": [
    "#add date only column\n",
    "orders_df['Date'] = pd.to_datetime(orders_df['created_at']).dt.date"
   ]
  },
  {
   "cell_type": "code",
   "execution_count": 5,
   "metadata": {},
   "outputs": [],
   "source": [
    "#line items information\n",
    "order_information = []\n",
    "order_items_df = orders_df[['id','line_items']]\n",
    "\n",
    "for i, row in order_items_df.iterrows():\n",
    "    for order in row['line_items']:\n",
    "        order_information.append([row['id'],order['id'],order['product_id'],order['product_sku'],\n",
    "                                  order['product_name'],order['price']])\n",
    "        \n",
    "order_information_df = pd.DataFrame(order_information)\n",
    "order_information_df.columns = ['id','product_order_id','product_id','product_sku',\n",
    "                                'product_name','price']#add header   "
   ]
  },
  {
   "cell_type": "code",
   "execution_count": 6,
   "metadata": {},
   "outputs": [],
   "source": [
    "# combine order and line items\n",
    "orders_line_items_df = pd.merge(orders_df, order_information_df, how='inner',on = 'id')"
   ]
  },
  {
   "cell_type": "code",
   "execution_count": 7,
   "metadata": {},
   "outputs": [],
   "source": [
    "#generate min and max date\n",
    "max_date = orders_df['Date'].max()\n",
    "min_date = orders_df['Date'].min()"
   ]
  },
  {
   "cell_type": "code",
   "execution_count": 8,
   "metadata": {},
   "outputs": [],
   "source": [
    "#currency information\n",
    "CURRENCY_US = \"USD\"\n",
    "CURRENCY_CAD = \"CAD\""
   ]
  },
  {
   "cell_type": "code",
   "execution_count": 9,
   "metadata": {},
   "outputs": [],
   "source": [
    "#foreign exchange api url setup\n",
    "url = \"https://api.exchangeratesapi.io/history?start_at=\" + str(min_date) + \"&end_at=\" + str(max_date) + \"&base=\" + CURRENCY_US + \"&symbols=\" + CURRENCY_CAD\n",
    "\n",
    "exchange_information = []\n",
    "response = requests.get(url)\n",
    "if (response.status_code != 200):\n",
    "    print(\"URL is not working\")  \n",
    "else:\n",
    "    response = requests.get(url)\n",
    "    exchange_rates_data = response.json()\n",
    "    exchange_rates_cad = exchange_rates_data[\"rates\"]\n",
    "    for exchange_rate_cad in exchange_rates_cad: \n",
    "        exchange_information.append([exchange_rate_cad,exchange_rates_cad[exchange_rate_cad][\"CAD\"]])\n",
    "    exchange_df = pd.DataFrame(exchange_information)\n",
    "    exchange_df.columns = ['Date','CAD_RATE'] #add headers"
   ]
  },
  {
   "cell_type": "code",
   "execution_count": 10,
   "metadata": {},
   "outputs": [],
   "source": [
    "exchange_df.sort_values(by=['Date'], inplace=True)"
   ]
  },
  {
   "cell_type": "code",
   "execution_count": 11,
   "metadata": {},
   "outputs": [],
   "source": [
    "#Update exchange information since some days are missing - filled using previous and future exchange rates\n",
    "exchange_update = []\n",
    "daterange = pd.date_range(min_date, max_date)\n",
    "for single_date in daterange:\n",
    "    exchange_update.append(single_date.strftime(\"%Y-%m-%d\"))\n",
    "    exchange_update_df = pd.DataFrame(exchange_update)\n",
    "    exchange_update_df.columns = ['Date'] #add header\n",
    "\n",
    "exchange_update_df = pd.merge(exchange_update_df, exchange_df, how='left',on = 'Date')\n",
    "exchange_update_df = exchange_update_df.fillna(method='ffill')   \n",
    "exchange_update_df = exchange_update_df.fillna(method='bfill')\n",
    "\n",
    "exchange_update_df['CAD_RATE'] = exchange_update_df['CAD_RATE'].round(decimals=2)"
   ]
  },
  {
   "cell_type": "code",
   "execution_count": 12,
   "metadata": {},
   "outputs": [],
   "source": [
    "#combine exchange rate and line item orders\n",
    "orders_line_items_df['Date'] = orders_line_items_df['Date'].astype(str)\n",
    "orders_line_items_df.reset_index(drop=True, inplace=True)\n",
    "exchange_update_df.reset_index(drop=True, inplace=True)\n",
    "orders_line_items_final_df = pd.merge(orders_line_items_df, exchange_update_df, how='left',on = 'Date')"
   ]
  },
  {
   "cell_type": "code",
   "execution_count": 13,
   "metadata": {},
   "outputs": [],
   "source": [
    "#generate canadian prices\n",
    "orders_line_items_final_df['cad_price'] = orders_line_items_final_df['price']*orders_line_items_final_df['CAD_RATE']\n",
    "orders_line_items_final_df['cad_price'] = orders_line_items_final_df['cad_price'].round(decimals=2)"
   ]
  },
  {
   "cell_type": "code",
   "execution_count": 14,
   "metadata": {},
   "outputs": [],
   "source": [
    "#select information needed and rename columns\n",
    "orders_line_items_CAD_final_df = orders_line_items_final_df[['id','customer.id','customer.name','customer.email','Date',\n",
    "                                     'product_order_id','product_id','product_sku','product_name','price','cad_price']]\n",
    "orders_line_items_CAD_final_df.columns = ['id','customer_id','customer_name','customer_email','date','product_order_id',\n",
    "                               'product_id','product_sku','product_name','product_price','cad_price']"
   ]
  },
  {
   "cell_type": "code",
   "execution_count": null,
   "metadata": {},
   "outputs": [],
   "source": []
  },
  {
   "cell_type": "code",
   "execution_count": 15,
   "metadata": {},
   "outputs": [],
   "source": [
    "#Using sqllite to create db\n",
    "import sqlite3\n",
    "from sqlite3 import Error\n",
    "\n",
    "def create_connection(path):\n",
    "    connection = None\n",
    "    try:\n",
    "        connection = sqlite3.connect(path)\n",
    "        print(\"Connection to SQLite DB successful\")\n",
    "    except Error as e:\n",
    "        print(f\"The error '{e}' occurred\")\n",
    "\n",
    "    return connection"
   ]
  },
  {
   "cell_type": "code",
   "execution_count": 16,
   "metadata": {},
   "outputs": [
    {
     "name": "stdout",
     "output_type": "stream",
     "text": [
      "Connection to SQLite DB successful\n"
     ]
    }
   ],
   "source": [
    "connection = create_connection(\"order_app2.sqlite\")"
   ]
  },
  {
   "cell_type": "code",
   "execution_count": 17,
   "metadata": {},
   "outputs": [],
   "source": [
    "def execute_query(connection, query):\n",
    "    cursor = connection.cursor()\n",
    "    try:\n",
    "        cursor.execute(query)\n",
    "        connection.commit()\n",
    "        print(\"Query executed successfully\")\n",
    "    except Error as e:\n",
    "        print(f\"The error '{e}' occurred\")"
   ]
  },
  {
   "cell_type": "code",
   "execution_count": 18,
   "metadata": {},
   "outputs": [],
   "source": [
    "#Create tables creation SQL\n",
    "create_product_table = \"\"\"\n",
    "CREATE TABLE IF NOT EXISTS product (\n",
    "  product_id INTEGER,\n",
    "  product_name TEXT NOT NULL,\n",
    "  product_sku TEXT NOT NULL,\n",
    "  product_price real\n",
    "  \n",
    ");\n",
    "\"\"\"\n",
    "\n",
    "create_customer_table = \"\"\"\n",
    "CREATE TABLE IF NOT EXISTS customer (\n",
    "  customer_id INTEGER PRIMARY KEY,\n",
    "  customer_name TEXT,\n",
    "  customer_email TEXT\n",
    ");\n",
    "\"\"\"\n",
    "\n",
    "create_order_table = \"\"\"\n",
    "CREATE TABLE IF NOT EXISTS orders (\n",
    "  order_id INTEGER PRIMARY KEY,\n",
    "  order_date TEXT\n",
    ");\n",
    "\"\"\"\n",
    "\n",
    "create_product_order_table = \"\"\"\n",
    "CREATE TABLE IF NOT EXISTS product_orders (\n",
    "  product_order_id INTEGER PRIMARY KEY,\n",
    "  order_id INTEGER,\n",
    "  FOREIGN KEY (order_id) REFERENCES orders (order_id)\n",
    ");\n",
    "\"\"\"\n",
    "\n",
    "create_customer_order_table = \"\"\"\n",
    "CREATE TABLE IF NOT EXISTS customer_orders (\n",
    "  order_id INTEGER,\n",
    "  customer_id INTEGER,\n",
    "  PRIMARY KEY(order_id,order_id),\n",
    "  FOREIGN KEY (order_id) REFERENCES orders (order_id),\n",
    "  FOREIGN KEY (customer_id) REFERENCES customer (customer_id)\n",
    ");\n",
    "\"\"\""
   ]
  },
  {
   "cell_type": "code",
   "execution_count": 19,
   "metadata": {},
   "outputs": [
    {
     "name": "stdout",
     "output_type": "stream",
     "text": [
      "Query executed successfully\n",
      "Query executed successfully\n",
      "Query executed successfully\n",
      "Query executed successfully\n",
      "Query executed successfully\n"
     ]
    }
   ],
   "source": [
    "#execute table generation queries\n",
    "execute_query(connection, create_product_table)\n",
    "execute_query(connection, create_customer_table)\n",
    "execute_query(connection, create_order_table)\n",
    "execute_query(connection, create_product_order_table)\n",
    "execute_query(connection, create_customer_order_table)"
   ]
  },
  {
   "cell_type": "code",
   "execution_count": 20,
   "metadata": {},
   "outputs": [],
   "source": [
    "#load data\n",
    "conn = connection\n",
    "cur = conn.cursor()\n",
    "\n",
    "#load product\n",
    "products_df = orders_line_items_CAD_final_df[['product_id','product_sku',\n",
    "                                              'product_name','product_price']].drop_duplicates()\n",
    "products_df.to_sql('product', conn, if_exists='replace', index=False)\n",
    "\n",
    "#load customer\n",
    "customers_df = orders_line_items_CAD_final_df[['customer_id','customer_name',\n",
    "                                              'customer_email']].drop_duplicates()\n",
    "customers_df.to_sql('customer', conn, if_exists='replace', index=False)\n",
    "\n",
    "#load orders\n",
    "orders_df = orders_line_items_CAD_final_df[['id','date']].drop_duplicates()\n",
    "orders_df.columns = ['order_id','order_date']\n",
    "orders_df.to_sql('orders', conn, if_exists='replace', index=False)\n",
    "\n",
    "#load product order\n",
    "product_orders_df = orders_line_items_CAD_final_df[['product_order_id','id']].drop_duplicates()\n",
    "product_orders_df.columns = ['product_order_id','order_id']\n",
    "product_orders_df.to_sql('product_orders', conn, if_exists='replace', index=False)\n",
    "\n",
    "#load customer order\n",
    "product_orders_df = orders_line_items_CAD_final_df[['id','customer_id']].drop_duplicates()\n",
    "product_orders_df.columns = ['order_id','customer_id']\n",
    "product_orders_df.to_sql('customer_orders', conn, if_exists='replace', index=False)\n",
    "\n",
    "conn.commit()\n",
    "conn.close()"
   ]
  },
  {
   "cell_type": "code",
   "execution_count": null,
   "metadata": {},
   "outputs": [],
   "source": []
  },
  {
   "cell_type": "code",
   "execution_count": null,
   "metadata": {},
   "outputs": [],
   "source": []
  },
  {
   "cell_type": "code",
   "execution_count": null,
   "metadata": {},
   "outputs": [],
   "source": []
  }
 ],
 "metadata": {
  "kernelspec": {
   "display_name": "Python 3",
   "language": "python",
   "name": "python3"
  },
  "language_info": {
   "codemirror_mode": {
    "name": "ipython",
    "version": 3
   },
   "file_extension": ".py",
   "mimetype": "text/x-python",
   "name": "python",
   "nbconvert_exporter": "python",
   "pygments_lexer": "ipython3",
   "version": "3.7.4"
  }
 },
 "nbformat": 4,
 "nbformat_minor": 2
}
