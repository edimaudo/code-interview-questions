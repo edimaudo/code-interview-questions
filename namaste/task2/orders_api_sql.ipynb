{
 "cells": [
  {
   "cell_type": "code",
   "execution_count": 1,
   "metadata": {},
   "outputs": [],
   "source": [
    "#load libraries\n",
    "import pandas as pd\n",
    "import json\n",
    "import requests\n",
    "from pandas.io.json import json_normalize"
   ]
  },
  {
   "cell_type": "code",
   "execution_count": 2,
   "metadata": {},
   "outputs": [],
   "source": [
    "#load orders json file\n",
    "with open('orders.json') as f:\n",
    "    orders_json = json.load(f)"
   ]
  },
  {
   "cell_type": "code",
   "execution_count": 3,
   "metadata": {},
   "outputs": [],
   "source": [
    "#flatten json data\n",
    "orders_df = json_normalize(orders_json)"
   ]
  },
  {
   "cell_type": "code",
   "execution_count": 4,
   "metadata": {
    "scrolled": true
   },
   "outputs": [],
   "source": [
    "#add date only column\n",
    "orders_df['Date'] = pd.to_datetime(orders_df['created_at']).dt.date"
   ]
  },
  {
   "cell_type": "code",
   "execution_count": 5,
   "metadata": {},
   "outputs": [],
   "source": [
    "#line items information\n",
    "order_information = []\n",
    "order_items_df = orders_df[['id','line_items']]\n",
    "\n",
    "for i, row in order_items_df.iterrows():\n",
    "    for order in row['line_items']:\n",
    "        order_information.append([row['id'],order['id'],order['product_id'],order['product_sku'],\n",
    "                                  order['product_name'],order['price']])\n",
    "        \n",
    "order_information_df = pd.DataFrame(order_information)\n",
    "order_information_df.columns = ['id','product_order_id','product_id','product_sku',\n",
    "                                'product_name','price']#add header   "
   ]
  },
  {
   "cell_type": "code",
   "execution_count": 6,
   "metadata": {},
   "outputs": [],
   "source": [
    "# combine order and line items\n",
    "orders_line_items_df = pd.merge(orders_df, order_information_df, how='inner',on = 'id')"
   ]
  },
  {
   "cell_type": "code",
   "execution_count": 7,
   "metadata": {},
   "outputs": [],
   "source": [
    "#generate min and max date\n",
    "max_date = orders_df['Date'].max()\n",
    "min_date = orders_df['Date'].min()"
   ]
  },
  {
   "cell_type": "code",
   "execution_count": 8,
   "metadata": {},
   "outputs": [],
   "source": [
    "#currency information\n",
    "CURRENCY_US = \"USD\"\n",
    "CURRENCY_CAD = \"CAD\""
   ]
  },
  {
   "cell_type": "code",
   "execution_count": 9,
   "metadata": {},
   "outputs": [],
   "source": [
    "#foreign exchange api url setup\n",
    "url = \"https://api.exchangeratesapi.io/history?start_at=\" + str(min_date) + \"&end_at=\" + str(max_date) + \"&base=\" + CURRENCY_US + \"&symbols=\" + CURRENCY_CAD\n",
    "\n",
    "exchange_information = []\n",
    "response = requests.get(url)\n",
    "if (response.status_code != 200):\n",
    "    print(\"URL is not working\")  \n",
    "else:\n",
    "    response = requests.get(url)\n",
    "    exchange_rates_data = response.json()\n",
    "    exchange_rates_cad = exchange_rates_data[\"rates\"]\n",
    "    for exchange_rate_cad in exchange_rates_cad: \n",
    "        exchange_information.append([exchange_rate_cad,exchange_rates_cad[exchange_rate_cad][\"CAD\"]])\n",
    "    exchange_df = pd.DataFrame(exchange_information)\n",
    "    exchange_df.columns = ['Date','CAD_RATE'] #add headers"
   ]
  },
  {
   "cell_type": "code",
   "execution_count": 10,
   "metadata": {},
   "outputs": [],
   "source": [
    "exchange_df.sort_values(by=['Date'], inplace=True)"
   ]
  },
  {
   "cell_type": "code",
   "execution_count": 11,
   "metadata": {},
   "outputs": [],
   "source": [
    "#Update exchange information since some days are missing - filled using previous and future exchange rates\n",
    "exchange_update = []\n",
    "daterange = pd.date_range(min_date, max_date)\n",
    "for single_date in daterange:\n",
    "    exchange_update.append(single_date.strftime(\"%Y-%m-%d\"))\n",
    "    exchange_update_df = pd.DataFrame(exchange_update)\n",
    "    exchange_update_df.columns = ['Date'] #add header\n",
    "\n",
    "exchange_update_df = pd.merge(exchange_update_df, exchange_df, how='left',on = 'Date')\n",
    "exchange_update_df = exchange_update_df.fillna(method='ffill')   \n",
    "exchange_update_df = exchange_update_df.fillna(method='bfill')\n",
    "\n",
    "exchange_update_df['CAD_RATE'] = exchange_update_df['CAD_RATE'].round(decimals=2)"
   ]
  },
  {
   "cell_type": "code",
   "execution_count": 12,
   "metadata": {},
   "outputs": [],
   "source": [
    "#combine exchange rate and line item orders\n",
    "orders_line_items_df['Date'] = orders_line_items_df['Date'].astype(str)\n",
    "orders_line_items_df.reset_index(drop=True, inplace=True)\n",
    "exchange_update_df.reset_index(drop=True, inplace=True)\n",
    "orders_line_items_final_df = pd.merge(orders_line_items_df, exchange_update_df, how='left',on = 'Date')"
   ]
  },
  {
   "cell_type": "code",
   "execution_count": 13,
   "metadata": {},
   "outputs": [],
   "source": [
    "#generate canadian prices\n",
    "orders_line_items_final_df['cad_price'] = orders_line_items_final_df['price']*orders_line_items_final_df['CAD_RATE']\n",
    "orders_line_items_final_df['cad_price'] = orders_line_items_final_df['cad_price'].round(decimals=2)"
   ]
  },
  {
   "cell_type": "code",
   "execution_count": 51,
   "metadata": {},
   "outputs": [],
   "source": [
    "#select information needed and rename columns\n",
    "orders_line_items_CAD_final_df = orders_line_items_final_df[['id','customer.id','customer.name','customer.email','Date',\n",
    "                                     'product_order_id','product_id','product_sku','product_name','price','cad_price']]\n",
    "orders_line_items_CAD_final_df.columns = ['id','customer_id','customer_name','customer_email','date','product_order_id',\n",
    "                               'product_id','product_sku','product_name','product_price','cad_price']"
   ]
  },
  {
   "cell_type": "code",
   "execution_count": null,
   "metadata": {},
   "outputs": [],
   "source": []
  },
  {
   "cell_type": "code",
   "execution_count": 37,
   "metadata": {},
   "outputs": [],
   "source": [
    "#Using sqllite to create db\n",
    "import sqlite3\n",
    "from sqlite3 import Error\n",
    "\n",
    "def create_connection(path):\n",
    "    connection = None\n",
    "    try:\n",
    "        connection = sqlite3.connect(path)\n",
    "        print(\"Connection to SQLite DB successful\")\n",
    "    except Error as e:\n",
    "        print(f\"The error '{e}' occurred\")\n",
    "\n",
    "    return connection"
   ]
  },
  {
   "cell_type": "code",
   "execution_count": 38,
   "metadata": {},
   "outputs": [
    {
     "name": "stdout",
     "output_type": "stream",
     "text": [
      "Connection to SQLite DB successful\n"
     ]
    }
   ],
   "source": [
    "connection = create_connection(\"order_app2.sqlite\")"
   ]
  },
  {
   "cell_type": "code",
   "execution_count": 39,
   "metadata": {},
   "outputs": [],
   "source": [
    "def execute_query(connection, query):\n",
    "    cursor = connection.cursor()\n",
    "    try:\n",
    "        cursor.execute(query)\n",
    "        connection.commit()\n",
    "        print(\"Query executed successfully\")\n",
    "    except Error as e:\n",
    "        print(f\"The error '{e}' occurred\")"
   ]
  },
  {
   "cell_type": "code",
   "execution_count": 40,
   "metadata": {},
   "outputs": [],
   "source": [
    "#Create tables creation SQL\n",
    "create_product_table = \"\"\"\n",
    "CREATE TABLE IF NOT EXISTS product (\n",
    "  product_id INTEGER,\n",
    "  product_name TEXT NOT NULL,\n",
    "  product_sku TEXT NOT NULL,\n",
    "  product_price real\n",
    "  \n",
    ");\n",
    "\"\"\"\n",
    "\n",
    "create_customer_table = \"\"\"\n",
    "CREATE TABLE IF NOT EXISTS customer (\n",
    "  customer_id INTEGER PRIMARY KEY,\n",
    "  customer_name TEXT,\n",
    "  customer_email TEXT\n",
    ");\n",
    "\"\"\"\n",
    "\n",
    "create_order_table = \"\"\"\n",
    "CREATE TABLE IF NOT EXISTS orders (\n",
    "  order_id INTEGER PRIMARY KEY,\n",
    "  order_date TEXT\n",
    ");\n",
    "\"\"\"\n",
    "\n",
    "create_product_order_table = \"\"\"\n",
    "CREATE TABLE IF NOT EXISTS product_orders (\n",
    "  product_order_id INTEGER PRIMARY KEY,\n",
    "  order_id INTEGER,\n",
    "  FOREIGN KEY (order_id) REFERENCES orders (order_id)\n",
    ");\n",
    "\"\"\"\n",
    "\n",
    "\n",
    "create_customer_order_table = \"\"\"\n",
    "CREATE TABLE IF NOT EXISTS customer_orders (\n",
    "  order_id INTEGER,\n",
    "  customer_id INTEGER,\n",
    "  PRIMARY KEY(order_id,order_id),\n",
    "  FOREIGN KEY (order_id) REFERENCES orders (order_id),\n",
    "  FOREIGN KEY (customer_id) REFERENCES customer (customer_id)\n",
    ");\n",
    "\"\"\""
   ]
  },
  {
   "cell_type": "code",
   "execution_count": 41,
   "metadata": {},
   "outputs": [
    {
     "name": "stdout",
     "output_type": "stream",
     "text": [
      "Query executed successfully\n",
      "Query executed successfully\n",
      "Query executed successfully\n",
      "Query executed successfully\n",
      "Query executed successfully\n"
     ]
    }
   ],
   "source": [
    "#execute table generation queries\n",
    "execute_query(connection, create_product_table)\n",
    "execute_query(connection, create_customer_table)\n",
    "execute_query(connection, create_order_table)\n",
    "execute_query(connection, create_product_order_table)\n",
    "execute_query(connection, create_customer_order_table)"
   ]
  },
  {
   "cell_type": "code",
   "execution_count": 52,
   "metadata": {},
   "outputs": [],
   "source": [
    "#load data\n",
    "conn = connection\n",
    "cur = conn.cursor()\n",
    "\n",
    "#load product\n",
    "products_df = orders_line_items_CAD_final_df[['product_id','product_sku',\n",
    "                                              'product_name','product_price']].drop_duplicates()\n",
    "products_df.to_sql('product', conn, if_exists='replace', index=False)\n",
    "#conn.commit()\n",
    "\n",
    "#load customer\n",
    "customers_df = orders_line_items_CAD_final_df[['customer_id','customer_name',\n",
    "                                              'customer_email']].drop_duplicates()\n",
    "customers_df.to_sql('customer', conn, if_exists='replace', index=False)\n",
    "\n",
    "#load orders\n",
    "orders_df = orders_line_items_CAD_final_df[['id','date']].drop_duplicates()\n",
    "orders_df.columns = ['order_id','order_date']\n",
    "orders_df.to_sql('orders', conn, if_exists='replace', index=False)\n",
    "\n",
    "#load product order\n",
    "product_orders_df = orders_line_items_CAD_final_df[['id','date']].drop_duplicates()\n",
    "product_orders_df_df.columns = ['order_id','order_date']\n",
    "product_orders_df_df.to_sql('orders', conn, if_exists='replace', index=False)\n",
    "\n",
    "#load customer order\n",
    "\n",
    "conn.commit()\n",
    "#conn.close()"
   ]
  },
  {
   "cell_type": "code",
   "execution_count": 53,
   "metadata": {},
   "outputs": [
    {
     "data": {
      "text/html": [
       "<div>\n",
       "<style scoped>\n",
       "    .dataframe tbody tr th:only-of-type {\n",
       "        vertical-align: middle;\n",
       "    }\n",
       "\n",
       "    .dataframe tbody tr th {\n",
       "        vertical-align: top;\n",
       "    }\n",
       "\n",
       "    .dataframe thead th {\n",
       "        text-align: right;\n",
       "    }\n",
       "</style>\n",
       "<table border=\"1\" class=\"dataframe\">\n",
       "  <thead>\n",
       "    <tr style=\"text-align: right;\">\n",
       "      <th></th>\n",
       "      <th>order_id</th>\n",
       "      <th>order_date</th>\n",
       "    </tr>\n",
       "  </thead>\n",
       "  <tbody>\n",
       "    <tr>\n",
       "      <td>0</td>\n",
       "      <td>8369263756632563</td>\n",
       "      <td>2020-03-07</td>\n",
       "    </tr>\n",
       "    <tr>\n",
       "      <td>1</td>\n",
       "      <td>7262170348080494</td>\n",
       "      <td>2020-03-01</td>\n",
       "    </tr>\n",
       "    <tr>\n",
       "      <td>2</td>\n",
       "      <td>7722055557038194</td>\n",
       "      <td>2020-01-01</td>\n",
       "    </tr>\n",
       "    <tr>\n",
       "      <td>3</td>\n",
       "      <td>4280852170163518</td>\n",
       "      <td>2020-03-10</td>\n",
       "    </tr>\n",
       "    <tr>\n",
       "      <td>4</td>\n",
       "      <td>5058732129957127</td>\n",
       "      <td>2020-03-15</td>\n",
       "    </tr>\n",
       "    <tr>\n",
       "      <td>5</td>\n",
       "      <td>6431399815998774</td>\n",
       "      <td>2020-03-12</td>\n",
       "    </tr>\n",
       "    <tr>\n",
       "      <td>6</td>\n",
       "      <td>5791957346866373</td>\n",
       "      <td>2020-03-24</td>\n",
       "    </tr>\n",
       "    <tr>\n",
       "      <td>7</td>\n",
       "      <td>2079640804901496</td>\n",
       "      <td>2020-02-19</td>\n",
       "    </tr>\n",
       "    <tr>\n",
       "      <td>8</td>\n",
       "      <td>2249838395290890</td>\n",
       "      <td>2020-03-13</td>\n",
       "    </tr>\n",
       "    <tr>\n",
       "      <td>9</td>\n",
       "      <td>7638742701884072</td>\n",
       "      <td>2020-03-08</td>\n",
       "    </tr>\n",
       "    <tr>\n",
       "      <td>10</td>\n",
       "      <td>5307192536865304</td>\n",
       "      <td>2020-03-12</td>\n",
       "    </tr>\n",
       "    <tr>\n",
       "      <td>11</td>\n",
       "      <td>8662976573169716</td>\n",
       "      <td>2020-02-05</td>\n",
       "    </tr>\n",
       "    <tr>\n",
       "      <td>12</td>\n",
       "      <td>2366621613260728</td>\n",
       "      <td>2020-01-18</td>\n",
       "    </tr>\n",
       "    <tr>\n",
       "      <td>13</td>\n",
       "      <td>9786845594710809</td>\n",
       "      <td>2020-03-18</td>\n",
       "    </tr>\n",
       "    <tr>\n",
       "      <td>14</td>\n",
       "      <td>6255086600405590</td>\n",
       "      <td>2020-01-05</td>\n",
       "    </tr>\n",
       "    <tr>\n",
       "      <td>15</td>\n",
       "      <td>5235927587417736</td>\n",
       "      <td>2020-03-24</td>\n",
       "    </tr>\n",
       "    <tr>\n",
       "      <td>16</td>\n",
       "      <td>5825547264855968</td>\n",
       "      <td>2020-01-01</td>\n",
       "    </tr>\n",
       "    <tr>\n",
       "      <td>17</td>\n",
       "      <td>1288301820842508</td>\n",
       "      <td>2020-01-19</td>\n",
       "    </tr>\n",
       "    <tr>\n",
       "      <td>18</td>\n",
       "      <td>1104846479586545</td>\n",
       "      <td>2020-02-22</td>\n",
       "    </tr>\n",
       "    <tr>\n",
       "      <td>19</td>\n",
       "      <td>2212383088430312</td>\n",
       "      <td>2020-01-22</td>\n",
       "    </tr>\n",
       "  </tbody>\n",
       "</table>\n",
       "</div>"
      ],
      "text/plain": [
       "            order_id  order_date\n",
       "0   8369263756632563  2020-03-07\n",
       "1   7262170348080494  2020-03-01\n",
       "2   7722055557038194  2020-01-01\n",
       "3   4280852170163518  2020-03-10\n",
       "4   5058732129957127  2020-03-15\n",
       "5   6431399815998774  2020-03-12\n",
       "6   5791957346866373  2020-03-24\n",
       "7   2079640804901496  2020-02-19\n",
       "8   2249838395290890  2020-03-13\n",
       "9   7638742701884072  2020-03-08\n",
       "10  5307192536865304  2020-03-12\n",
       "11  8662976573169716  2020-02-05\n",
       "12  2366621613260728  2020-01-18\n",
       "13  9786845594710809  2020-03-18\n",
       "14  6255086600405590  2020-01-05\n",
       "15  5235927587417736  2020-03-24\n",
       "16  5825547264855968  2020-01-01\n",
       "17  1288301820842508  2020-01-19\n",
       "18  1104846479586545  2020-02-22\n",
       "19  2212383088430312  2020-01-22"
      ]
     },
     "execution_count": 53,
     "metadata": {},
     "output_type": "execute_result"
    }
   ],
   "source": [
    "#test product - done\n",
    "#test order\n",
    "#test customer - done\n",
    "#test product order\n",
    "#test customer order\n",
    "df = pd.read_sql_query(\"select * from orders;\", conn)\n",
    "df"
   ]
  },
  {
   "cell_type": "code",
   "execution_count": null,
   "metadata": {},
   "outputs": [],
   "source": []
  },
  {
   "cell_type": "code",
   "execution_count": null,
   "metadata": {},
   "outputs": [],
   "source": []
  }
 ],
 "metadata": {
  "kernelspec": {
   "display_name": "Python 3",
   "language": "python",
   "name": "python3"
  },
  "language_info": {
   "codemirror_mode": {
    "name": "ipython",
    "version": 3
   },
   "file_extension": ".py",
   "mimetype": "text/x-python",
   "name": "python",
   "nbconvert_exporter": "python",
   "pygments_lexer": "ipython3",
   "version": "3.7.4"
  }
 },
 "nbformat": 4,
 "nbformat_minor": 2
}
